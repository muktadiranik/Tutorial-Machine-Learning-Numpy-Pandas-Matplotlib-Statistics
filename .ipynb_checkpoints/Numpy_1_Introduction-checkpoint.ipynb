{
 "cells": [
  {
   "cell_type": "code",
   "execution_count": 1,
   "id": "1bd0e033-effe-4924-8e5e-4b84d0591140",
   "metadata": {},
   "outputs": [],
   "source": [
    "import numpy as np"
   ]
  },
  {
   "cell_type": "code",
   "execution_count": 2,
   "id": "9753648b-faae-48e2-8142-7ad109e225a2",
   "metadata": {},
   "outputs": [],
   "source": [
    "a = np.array([1, 2, 3, 4, 5, 6, 7, 8, 9])"
   ]
  },
  {
   "cell_type": "code",
   "execution_count": 3,
   "id": "9208746a-7416-426d-9c86-93e40e05f376",
   "metadata": {},
   "outputs": [
    {
     "data": {
      "text/plain": [
       "array([1, 2, 3, 4, 5, 6, 7, 8, 9])"
      ]
     },
     "execution_count": 3,
     "metadata": {},
     "output_type": "execute_result"
    }
   ],
   "source": [
    "a"
   ]
  },
  {
   "cell_type": "code",
   "execution_count": 4,
   "id": "907967a3-d80f-452b-8756-f4f4da48adfa",
   "metadata": {},
   "outputs": [
    {
     "data": {
      "text/plain": [
       "1"
      ]
     },
     "execution_count": 4,
     "metadata": {},
     "output_type": "execute_result"
    }
   ],
   "source": [
    "a[0]"
   ]
  },
  {
   "cell_type": "code",
   "execution_count": 5,
   "id": "9195bdf5-ee7d-410b-82ae-a482e5b3e93a",
   "metadata": {},
   "outputs": [],
   "source": [
    "import sys"
   ]
  },
  {
   "cell_type": "code",
   "execution_count": 7,
   "id": "0ef30d15-8dbe-471e-8eba-7d5dc3059796",
   "metadata": {},
   "outputs": [
    {
     "name": "stdout",
     "output_type": "stream",
     "text": [
      "24000\n"
     ]
    }
   ],
   "source": [
    "l = range(1000)\n",
    "print(sys.getsizeof(0) * len(l))"
   ]
  },
  {
   "cell_type": "code",
   "execution_count": 8,
   "id": "df6f1164-7a2e-487a-83db-41110c945918",
   "metadata": {},
   "outputs": [],
   "source": [
    "array = np.arange(1000)"
   ]
  },
  {
   "cell_type": "code",
   "execution_count": 9,
   "id": "bd22d761-5fcf-4ab1-b4c5-31c667f20439",
   "metadata": {},
   "outputs": [
    {
     "name": "stdout",
     "output_type": "stream",
     "text": [
      "4000\n"
     ]
    }
   ],
   "source": [
    "print(array.size * array.itemsize)"
   ]
  },
  {
   "cell_type": "code",
   "execution_count": 10,
   "id": "56ee87ea-3390-42af-837f-079af481843b",
   "metadata": {},
   "outputs": [],
   "source": [
    "import time"
   ]
  },
  {
   "cell_type": "code",
   "execution_count": 33,
   "id": "6e21b6d0-af99-4398-b1ff-b58ca6d5525f",
   "metadata": {},
   "outputs": [],
   "source": [
    "SIZE = 1000000\n",
    "l1 = range(SIZE)\n",
    "l2 = range(SIZE)"
   ]
  },
  {
   "cell_type": "code",
   "execution_count": 34,
   "id": "3eea8f1b-afec-4e59-aff2-0cd23e4a2d4c",
   "metadata": {},
   "outputs": [],
   "source": [
    "a1 = np.arange(SIZE)\n",
    "a2 = np.arange(SIZE)"
   ]
  },
  {
   "cell_type": "code",
   "execution_count": 35,
   "id": "7204d59c-615f-4dad-8aa0-e9b9d8a6deb2",
   "metadata": {},
   "outputs": [],
   "source": [
    "start = time.time()"
   ]
  },
  {
   "cell_type": "code",
   "execution_count": 19,
   "id": "e949dcd4-902d-4685-b54c-f43e368acd68",
   "metadata": {},
   "outputs": [],
   "source": [
    "result = [(x + y) for x, y in zip(l1, l2)]"
   ]
  },
  {
   "cell_type": "code",
   "execution_count": 38,
   "id": "1616bccc-4f21-4ddc-97c4-ae5a695d1b5d",
   "metadata": {},
   "outputs": [
    {
     "name": "stdout",
     "output_type": "stream",
     "text": [
      "239.8531436920166\n"
     ]
    }
   ],
   "source": [
    "start = time.time()\n",
    "result = [(x + y) for x, y in zip(l1, l2)]\n",
    "print((time.time() - start) * 1000)"
   ]
  },
  {
   "cell_type": "code",
   "execution_count": 39,
   "id": "efdf5763-012e-415e-afa4-8d975e6930bd",
   "metadata": {},
   "outputs": [
    {
     "name": "stdout",
     "output_type": "stream",
     "text": [
      "16.992807388305664\n"
     ]
    }
   ],
   "source": [
    "start = time.time()\n",
    "result = a1 + a2\n",
    "print((time.time() - start) * 1000)"
   ]
  },
  {
   "cell_type": "code",
   "execution_count": null,
   "id": "9601515d-a8a8-46e2-a482-bd81ec70ee35",
   "metadata": {},
   "outputs": [],
   "source": []
  },
  {
   "cell_type": "code",
   "execution_count": null,
   "id": "df17a4e0-812b-456f-8eed-9a79ba7bca69",
   "metadata": {},
   "outputs": [],
   "source": []
  },
  {
   "cell_type": "code",
   "execution_count": null,
   "id": "400b9102-728e-40ed-a8ca-21b6d2191d78",
   "metadata": {},
   "outputs": [],
   "source": []
  },
  {
   "cell_type": "code",
   "execution_count": null,
   "id": "cd2c9bbc-cb44-4f99-b839-74ad166d993d",
   "metadata": {},
   "outputs": [],
   "source": []
  },
  {
   "cell_type": "code",
   "execution_count": null,
   "id": "78818ef7-8783-475b-a376-f0b3ce3a85bc",
   "metadata": {},
   "outputs": [],
   "source": []
  },
  {
   "cell_type": "code",
   "execution_count": null,
   "id": "85738a24-db8c-4902-994f-5f36aded3c7d",
   "metadata": {},
   "outputs": [],
   "source": []
  }
 ],
 "metadata": {
  "kernelspec": {
   "display_name": "Python 3 (ipykernel)",
   "language": "python",
   "name": "python3"
  },
  "language_info": {
   "codemirror_mode": {
    "name": "ipython",
    "version": 3
   },
   "file_extension": ".py",
   "mimetype": "text/x-python",
   "name": "python",
   "nbconvert_exporter": "python",
   "pygments_lexer": "ipython3",
   "version": "3.8.8"
  }
 },
 "nbformat": 4,
 "nbformat_minor": 5
}
