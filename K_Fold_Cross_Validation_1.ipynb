{
 "cells": [
  {
   "cell_type": "code",
   "execution_count": 1,
   "id": "7a37a03a",
   "metadata": {},
   "outputs": [],
   "source": [
    "from sklearn.datasets import load_digits"
   ]
  },
  {
   "cell_type": "code",
   "execution_count": 2,
   "id": "fd9ef068",
   "metadata": {},
   "outputs": [],
   "source": [
    "digits = load_digits()"
   ]
  },
  {
   "cell_type": "code",
   "execution_count": 9,
   "id": "3b191ece",
   "metadata": {},
   "outputs": [],
   "source": [
    "from sklearn.linear_model import LinearRegression\n",
    "lr = LinearRegression()\n",
    "from sklearn.linear_model import LogisticRegression\n",
    "lgr = LogisticRegression(max_iter=100000)\n",
    "from sklearn.tree import DecisionTreeClassifier\n",
    "dtc = DecisionTreeClassifier()\n",
    "from sklearn.ensemble import RandomForestClassifier\n",
    "rfc = RandomForestClassifier()"
   ]
  },
  {
   "cell_type": "code",
   "execution_count": 10,
   "id": "431b34b9",
   "metadata": {},
   "outputs": [],
   "source": [
    "from sklearn.model_selection import StratifiedKFold"
   ]
  },
  {
   "cell_type": "code",
   "execution_count": 11,
   "id": "29984dda",
   "metadata": {},
   "outputs": [],
   "source": [
    "from sklearn.model_selection import cross_val_score"
   ]
  },
  {
   "cell_type": "code",
   "execution_count": 12,
   "id": "ec9ec70d",
   "metadata": {},
   "outputs": [],
   "source": [
    "x = digits.data\n",
    "y = digits.target"
   ]
  },
  {
   "cell_type": "code",
   "execution_count": 13,
   "id": "9d73d503",
   "metadata": {},
   "outputs": [
    {
     "data": {
      "text/plain": [
       "array([0.48346048, 0.5583603 , 0.57534522, 0.5056632 , 0.40995457])"
      ]
     },
     "execution_count": 13,
     "metadata": {},
     "output_type": "execute_result"
    }
   ],
   "source": [
    "cross_val_score(lr, x, y)"
   ]
  },
  {
   "cell_type": "code",
   "execution_count": 14,
   "id": "2232b032",
   "metadata": {},
   "outputs": [
    {
     "data": {
      "text/plain": [
       "array([0.925     , 0.87777778, 0.93871866, 0.93314763, 0.89693593])"
      ]
     },
     "execution_count": 14,
     "metadata": {},
     "output_type": "execute_result"
    }
   ],
   "source": [
    "cross_val_score(lgr, x, y)"
   ]
  },
  {
   "cell_type": "code",
   "execution_count": 15,
   "id": "b0e9eda1",
   "metadata": {},
   "outputs": [],
   "source": [
    "score_lr = []\n",
    "score_lgr = []\n",
    "score_dtc = []\n",
    "score_rfc = []"
   ]
  },
  {
   "cell_type": "code",
   "execution_count": 16,
   "id": "1edfc6e4",
   "metadata": {},
   "outputs": [],
   "source": [
    "def get_score(model):\n",
    "    model.fit(xtrain, ytrain)\n",
    "    return model.score(xtest, ytest)"
   ]
  },
  {
   "cell_type": "code",
   "execution_count": 18,
   "id": "df347080",
   "metadata": {},
   "outputs": [],
   "source": [
    "skf = StratifiedKFold()"
   ]
  },
  {
   "cell_type": "code",
   "execution_count": 19,
   "id": "5dab1e20",
   "metadata": {},
   "outputs": [],
   "source": [
    "for train_index, test_index in skf.split(digits.data, digits.target):\n",
    "    (xtrain, xtest, ytrain, ytest) = (digits.data[train_index], digits.data[test_index], digits.target[train_index], digits.target[test_index])\n",
    "    score_lr.append(get_score(lr))\n",
    "    score_lgr.append(get_score(lgr))\n",
    "    score_dtc.append(get_score(dtc))\n",
    "    score_rfc.append(get_score(rfc))"
   ]
  },
  {
   "cell_type": "code",
   "execution_count": 20,
   "id": "57a74acf",
   "metadata": {},
   "outputs": [
    {
     "data": {
      "text/plain": [
       "[0.925,\n",
       " 0.8777777777777778,\n",
       " 0.9387186629526463,\n",
       " 0.9331476323119777,\n",
       " 0.8969359331476323]"
      ]
     },
     "execution_count": 20,
     "metadata": {},
     "output_type": "execute_result"
    }
   ],
   "source": [
    "score_lgr"
   ]
  }
 ],
 "metadata": {
  "kernelspec": {
   "display_name": "Python 3 (ipykernel)",
   "language": "python",
   "name": "python3"
  },
  "language_info": {
   "codemirror_mode": {
    "name": "ipython",
    "version": 3
   },
   "file_extension": ".py",
   "mimetype": "text/x-python",
   "name": "python",
   "nbconvert_exporter": "python",
   "pygments_lexer": "ipython3",
   "version": "3.8.8"
  }
 },
 "nbformat": 4,
 "nbformat_minor": 5
}
