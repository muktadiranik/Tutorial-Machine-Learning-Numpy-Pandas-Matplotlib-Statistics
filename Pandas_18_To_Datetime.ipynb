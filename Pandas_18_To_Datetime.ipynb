{
 "cells": [
  {
   "cell_type": "code",
   "execution_count": 1,
   "id": "d26ec1b6-db72-4065-aad3-b100212439e0",
   "metadata": {},
   "outputs": [],
   "source": [
    "import pandas as pd"
   ]
  },
  {
   "cell_type": "code",
   "execution_count": 3,
   "id": "fa36686f-7402-4fd5-bc70-14344cd3e3f5",
   "metadata": {},
   "outputs": [],
   "source": [
    "dates = ['2017-01-05', 'Jan 5, 2017', '01/05/2017', '2017.01.05', '2017/01/05', '20170105']"
   ]
  },
  {
   "cell_type": "code",
   "execution_count": 6,
   "id": "5d1918b1-81d5-4d51-8db7-d52364d562a4",
   "metadata": {},
   "outputs": [
    {
     "data": {
      "text/plain": [
       "DatetimeIndex(['2017-01-05', '2017-01-05', '2017-01-05', '2017-01-05',\n",
       "               '2017-01-05', '2017-01-05'],\n",
       "              dtype='datetime64[ns]', freq=None)"
      ]
     },
     "execution_count": 6,
     "metadata": {},
     "output_type": "execute_result"
    }
   ],
   "source": [
    "pd.to_datetime(dates)"
   ]
  },
  {
   "cell_type": "code",
   "execution_count": 5,
   "id": "b3c4d46b-9423-4f12-874b-6da047cccc21",
   "metadata": {},
   "outputs": [],
   "source": [
    "times = ['2017-01-05 2:30:00 PM', 'Jan 5, 2017 14:30:00', '01/05/2016', '2017.01.05', '2017/01/05', '20170105']"
   ]
  },
  {
   "cell_type": "code",
   "execution_count": 7,
   "id": "d68d2a34-7a26-4bdc-8fbf-8347db0d4894",
   "metadata": {},
   "outputs": [
    {
     "data": {
      "text/plain": [
       "DatetimeIndex(['2017-01-05 14:30:00', '2017-01-05 14:30:00',\n",
       "               '2016-01-05 00:00:00', '2017-01-05 00:00:00',\n",
       "               '2017-01-05 00:00:00', '2017-01-05 00:00:00'],\n",
       "              dtype='datetime64[ns]', freq=None)"
      ]
     },
     "execution_count": 7,
     "metadata": {},
     "output_type": "execute_result"
    }
   ],
   "source": [
    "pd.to_datetime(times)"
   ]
  },
  {
   "cell_type": "code",
   "execution_count": 8,
   "id": "2066b09a-d0d7-4bf5-9e6a-e00d8a5f4627",
   "metadata": {},
   "outputs": [],
   "source": [
    "a = '01/12/2020'"
   ]
  },
  {
   "cell_type": "code",
   "execution_count": 9,
   "id": "74a7c533-0691-4304-ae28-fd3ea40e9443",
   "metadata": {},
   "outputs": [
    {
     "data": {
      "text/plain": [
       "Timestamp('2020-12-01 00:00:00')"
      ]
     },
     "execution_count": 9,
     "metadata": {},
     "output_type": "execute_result"
    }
   ],
   "source": [
    "pd.to_datetime(a, dayfirst=True)"
   ]
  },
  {
   "cell_type": "code",
   "execution_count": 18,
   "id": "a8cdc72f-16db-4d94-aece-a35ba2925c1f",
   "metadata": {},
   "outputs": [],
   "source": [
    "a = '01#12#2020'"
   ]
  },
  {
   "cell_type": "code",
   "execution_count": 19,
   "id": "9bd077e4-f467-4915-acb9-2c7da76f30a1",
   "metadata": {},
   "outputs": [
    {
     "data": {
      "text/plain": [
       "Timestamp('2020-12-01 00:00:00')"
      ]
     },
     "execution_count": 19,
     "metadata": {},
     "output_type": "execute_result"
    }
   ],
   "source": [
    "pd.to_datetime(a, dayfirst=True, format='%d#%m#%Y')"
   ]
  },
  {
   "cell_type": "code",
   "execution_count": 20,
   "id": "4ab6d697-90f5-4ea5-8788-6942a7be6364",
   "metadata": {},
   "outputs": [],
   "source": [
    "dates = ['2017-01-05', 'Jan 5, 2017', '01/05/2017', '2017.01.05', '2017/01/05', '20170105', 'abcd']"
   ]
  },
  {
   "cell_type": "code",
   "execution_count": 21,
   "id": "b9405f89-d9aa-4bd5-80e4-b61ef8a334c4",
   "metadata": {},
   "outputs": [
    {
     "data": {
      "text/plain": [
       "Index(['2017-01-05', 'Jan 5, 2017', '01/05/2017', '2017.01.05', '2017/01/05',\n",
       "       '20170105', 'abcd'],\n",
       "      dtype='object')"
      ]
     },
     "execution_count": 21,
     "metadata": {},
     "output_type": "execute_result"
    }
   ],
   "source": [
    "pd.to_datetime(dates, errors='ignore')"
   ]
  },
  {
   "cell_type": "code",
   "execution_count": 22,
   "id": "91675df1-5d3a-4479-a852-0eafe829d8e4",
   "metadata": {},
   "outputs": [
    {
     "data": {
      "text/plain": [
       "DatetimeIndex(['2017-01-05', '2017-01-05', '2017-01-05', '2017-01-05',\n",
       "               '2017-01-05', '2017-01-05',        'NaT'],\n",
       "              dtype='datetime64[ns]', freq=None)"
      ]
     },
     "execution_count": 22,
     "metadata": {},
     "output_type": "execute_result"
    }
   ],
   "source": [
    "pd.to_datetime(dates, errors='coerce')"
   ]
  },
  {
   "cell_type": "code",
   "execution_count": 25,
   "id": "59a370ab-ab67-448f-bbfc-85d66f4e49b0",
   "metadata": {},
   "outputs": [],
   "source": [
    "epoch_time = 1634322083"
   ]
  },
  {
   "cell_type": "code",
   "execution_count": 26,
   "id": "ef1d4a4f-949a-409e-90c7-f11c48c7c091",
   "metadata": {},
   "outputs": [
    {
     "data": {
      "text/plain": [
       "Timestamp('1970-01-01 00:00:01.634322083')"
      ]
     },
     "execution_count": 26,
     "metadata": {},
     "output_type": "execute_result"
    }
   ],
   "source": [
    "pd.to_datetime(epoch_time)"
   ]
  },
  {
   "cell_type": "code",
   "execution_count": 27,
   "id": "d058aa70-1961-48de-9fda-285ddf95f36e",
   "metadata": {},
   "outputs": [
    {
     "data": {
      "text/plain": [
       "Timestamp('2021-10-15 18:21:23')"
      ]
     },
     "execution_count": 27,
     "metadata": {},
     "output_type": "execute_result"
    }
   ],
   "source": [
    "pd.to_datetime(epoch_time, unit='s')"
   ]
  },
  {
   "cell_type": "code",
   "execution_count": 32,
   "id": "38cffcf4-422d-428b-8d27-bda9a8245245",
   "metadata": {},
   "outputs": [
    {
     "data": {
      "text/plain": [
       "DatetimeIndex(['2021-10-15 18:21:23'], dtype='datetime64[ns]', freq=None)"
      ]
     },
     "execution_count": 32,
     "metadata": {},
     "output_type": "execute_result"
    }
   ],
   "source": [
    "epoch = pd.to_datetime([epoch_time], unit='s')\n",
    "epoch"
   ]
  },
  {
   "cell_type": "code",
   "execution_count": 33,
   "id": "3ff9c49c-c521-4c1d-9ffa-54108e2df09f",
   "metadata": {},
   "outputs": [
    {
     "data": {
      "text/plain": [
       "DatetimeIndex(['2021-10-15 18:21:23'], dtype='datetime64[ns]', freq=None)"
      ]
     },
     "execution_count": 33,
     "metadata": {},
     "output_type": "execute_result"
    }
   ],
   "source": [
    "epoch"
   ]
  },
  {
   "cell_type": "code",
   "execution_count": 34,
   "id": "3380fbfb-581b-4feb-a769-5f70d4c650b4",
   "metadata": {},
   "outputs": [
    {
     "data": {
      "text/plain": [
       "array([1634322083000000000], dtype=int64)"
      ]
     },
     "execution_count": 34,
     "metadata": {},
     "output_type": "execute_result"
    }
   ],
   "source": [
    "epoch.view('int64')"
   ]
  },
  {
   "cell_type": "code",
   "execution_count": null,
   "id": "c6603a2d-cb35-4be3-b702-ad524e3d93d6",
   "metadata": {},
   "outputs": [],
   "source": []
  },
  {
   "cell_type": "code",
   "execution_count": null,
   "id": "5e220a95-7554-4af2-8849-d4d5552f135b",
   "metadata": {},
   "outputs": [],
   "source": []
  },
  {
   "cell_type": "code",
   "execution_count": null,
   "id": "ce1ec234-e6b3-4bd9-b5ec-b91a199251f0",
   "metadata": {},
   "outputs": [],
   "source": []
  },
  {
   "cell_type": "code",
   "execution_count": null,
   "id": "2f8a4071-9a13-45f2-9ea3-2beee954bcf2",
   "metadata": {},
   "outputs": [],
   "source": []
  },
  {
   "cell_type": "code",
   "execution_count": null,
   "id": "f5b5885f-5f5f-415e-81b9-a0a4cb62746c",
   "metadata": {},
   "outputs": [],
   "source": []
  },
  {
   "cell_type": "code",
   "execution_count": null,
   "id": "df26d746-0d97-4b92-a4bc-bc7b15ec93c6",
   "metadata": {},
   "outputs": [],
   "source": []
  },
  {
   "cell_type": "code",
   "execution_count": null,
   "id": "8f8022a6-69b1-4254-8a8b-1e0489377988",
   "metadata": {},
   "outputs": [],
   "source": []
  },
  {
   "cell_type": "code",
   "execution_count": null,
   "id": "3bd0397d-4504-4a5d-8b2e-7e693d9559f5",
   "metadata": {},
   "outputs": [],
   "source": []
  },
  {
   "cell_type": "code",
   "execution_count": null,
   "id": "e607a88e-eb9a-4af1-bd88-38990e88c0aa",
   "metadata": {},
   "outputs": [],
   "source": []
  },
  {
   "cell_type": "code",
   "execution_count": null,
   "id": "fdae108f-3eb1-43f7-872e-1687064f6cc6",
   "metadata": {},
   "outputs": [],
   "source": []
  },
  {
   "cell_type": "code",
   "execution_count": null,
   "id": "aac9aba3-b0cf-43d5-b984-bfca34f7a314",
   "metadata": {},
   "outputs": [],
   "source": []
  },
  {
   "cell_type": "code",
   "execution_count": null,
   "id": "53ade6c6-428e-4955-9409-90130309e16e",
   "metadata": {},
   "outputs": [],
   "source": []
  },
  {
   "cell_type": "code",
   "execution_count": null,
   "id": "a338d430-c470-47e0-8dc0-d57bd8fba158",
   "metadata": {},
   "outputs": [],
   "source": []
  },
  {
   "cell_type": "code",
   "execution_count": null,
   "id": "120dace9-805d-4e1a-b080-fba26727bdfa",
   "metadata": {},
   "outputs": [],
   "source": []
  }
 ],
 "metadata": {
  "kernelspec": {
   "display_name": "Python 3 (ipykernel)",
   "language": "python",
   "name": "python3"
  },
  "language_info": {
   "codemirror_mode": {
    "name": "ipython",
    "version": 3
   },
   "file_extension": ".py",
   "mimetype": "text/x-python",
   "name": "python",
   "nbconvert_exporter": "python",
   "pygments_lexer": "ipython3",
   "version": "3.8.8"
  }
 },
 "nbformat": 4,
 "nbformat_minor": 5
}
